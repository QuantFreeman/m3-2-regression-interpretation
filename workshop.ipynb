{
 "cells": [
  {
   "cell_type": "markdown",
   "metadata": {
    "jupyter": {
     "source_hidden": true
    }
   },
   "source": [
    "# 1. Regressive Tennis T-Test\n",
    "\n",
    "Use a linear regression and statsmodels to run a t-test on whether Federer scores more points than his opponents in the `tennis.csv` dataset.\n",
    "\n",
    "Give a one-paragraph interpretation of the coefficient, and the meaning of the p-value. \n",
    "\n",
    "Also answer the following: should your regression include a constant term? Why or why not? How would it change the interpretation of your coefficient and p-value?"
   ]
  },
  {
   "cell_type": "code",
   "execution_count": 53,
   "metadata": {
    "collapsed": true,
    "jupyter": {
     "outputs_hidden": true,
     "source_hidden": true
    }
   },
   "outputs": [
    {
     "data": {
      "image/png": "[encoded data removed]",
      "text/plain": [
       "<Figure size 432x288 with 1 Axes>"
      ]
     },
     "metadata": {
      "needs_background": "light"
     },
     "output_type": "display_data"
    },
    {
     "data": {
      "text/html": [
       "<table class=\"simpletable\">\n",
       "<caption>OLS Regression Results</caption>\n",
       "<tr>\n",
       "  <th>Dep. Variable:</th>    <td>player1 total points won</td> <th>  R-squared (uncentered):</th>      <td>   0.969</td> \n",
       "</tr>\n",
       "<tr>\n",
       "  <th>Model:</th>                       <td>OLS</td>           <th>  Adj. R-squared (uncentered):</th> <td>   0.969</td> \n",
       "</tr>\n",
       "<tr>\n",
       "  <th>Method:</th>                 <td>Least Squares</td>      <th>  F-statistic:       </th>          <td>2.837e+04</td>\n",
       "</tr>\n",
       "<tr>\n",
       "  <th>Date:</th>                 <td>Wed, 20 Jan 2021</td>     <th>  Prob (F-statistic):</th>           <td>  0.00</td>  \n",
       "</tr>\n",
       "<tr>\n",
       "  <th>Time:</th>                     <td>11:43:54</td>         <th>  Log-Likelihood:    </th>          <td> -4310.3</td> \n",
       "</tr>\n",
       "<tr>\n",
       "  <th>No. Observations:</th>          <td>  1027</td>          <th>  AIC:               </th>          <td>   8623.</td> \n",
       "</tr>\n",
       "<tr>\n",
       "  <th>Df Residuals:</th>              <td>  1026</td>          <th>  BIC:               </th>          <td>   8628.</td> \n",
       "</tr>\n",
       "<tr>\n",
       "  <th>Df Model:</th>                  <td>     1</td>          <th>                     </th>              <td> </td>    \n",
       "</tr>\n",
       "<tr>\n",
       "  <th>Covariance Type:</th>             <td>HC2</td>           <th>                     </th>              <td> </td>    \n",
       "</tr>\n",
       "</table>\n",
       "<table class=\"simpletable\">\n",
       "<tr>\n",
       "              <td></td>                <th>coef</th>     <th>std err</th>      <th>z</th>      <th>P>|z|</th>  <th>[0.025</th>    <th>0.975]</th>  \n",
       "</tr>\n",
       "<tr>\n",
       "  <th>player2 total points won</th> <td>    1.1242</td> <td>    0.007</td> <td>  168.435</td> <td> 0.000</td> <td>    1.111</td> <td>    1.137</td>\n",
       "</tr>\n",
       "</table>\n",
       "<table class=\"simpletable\">\n",
       "<tr>\n",
       "  <th>Omnibus:</th>       <td>72.672</td> <th>  Durbin-Watson:     </th> <td>   1.645</td>\n",
       "</tr>\n",
       "<tr>\n",
       "  <th>Prob(Omnibus):</th> <td> 0.000</td> <th>  Jarque-Bera (JB):  </th> <td>  86.996</td>\n",
       "</tr>\n",
       "<tr>\n",
       "  <th>Skew:</th>          <td>-0.709</td> <th>  Prob(JB):          </th> <td>1.29e-19</td>\n",
       "</tr>\n",
       "<tr>\n",
       "  <th>Kurtosis:</th>      <td> 3.147</td> <th>  Cond. No.          </th> <td>    1.00</td>\n",
       "</tr>\n",
       "</table><br/><br/>Notes:<br/>[1] R² is computed without centering (uncentered) since the model does not contain a constant.<br/>[2] Standard Errors are heteroscedasticity robust (HC2)"
      ],
      "text/plain": [
       "<class 'statsmodels.iolib.summary.Summary'>\n",
       "\"\"\"\n",
       "                                    OLS Regression Results                                   \n",
       "=============================================================================================\n",
       "Dep. Variable:     player1 total points won   R-squared (uncentered):                   0.969\n",
       "Model:                                  OLS   Adj. R-squared (uncentered):              0.969\n",
       "Method:                       Least Squares   F-statistic:                          2.837e+04\n",
       "Date:                      Wed, 20 Jan 2021   Prob (F-statistic):                        0.00\n",
       "Time:                              11:43:54   Log-Likelihood:                         -4310.3\n",
       "No. Observations:                      1027   AIC:                                      8623.\n",
       "Df Residuals:                          1026   BIC:                                      8628.\n",
       "Df Model:                                 1                                                  \n",
       "Covariance Type:                        HC2                                                  \n",
       "============================================================================================\n",
       "                               coef    std err          z      P>|z|      [0.025      0.975]\n",
       "--------------------------------------------------------------------------------------------\n",
       "player2 total points won     1.1242      0.007    168.435      0.000       1.111       1.137\n",
       "==============================================================================\n",
       "Omnibus:                       72.672   Durbin-Watson:                   1.645\n",
       "Prob(Omnibus):                  0.000   Jarque-Bera (JB):               86.996\n",
       "Skew:                          -0.709   Prob(JB):                     1.29e-19\n",
       "Kurtosis:                       3.147   Cond. No.                         1.00\n",
       "==============================================================================\n",
       "\n",
       "Notes:\n",
       "[1] R² is computed without centering (uncentered) since the model does not contain a constant.\n",
       "[2] Standard Errors are heteroscedasticity robust (HC2)\n",
       "\"\"\""
      ]
     },
     "execution_count": 53,
     "metadata": {},
     "output_type": "execute_result"
    }
   ],
   "source": [
    "import matplotlib.pyplot as plt\n",
    "from scipy import stats as st\n",
    "from sklearn.datasets import load_boston\n",
    "import pandas as pd\n",
    "import io\n",
    "import numpy as np\n",
    "import seaborn as sns\n",
    "import statsmodels.api as sm\n",
    "\n",
    "data_url = 'data/tennis.csv'\n",
    "dataframe = pd.read_csv(data_url)\n",
    "df = dataframe\n",
    "X = df[['player2 total points won']].dropna()\n",
    "# X = sm.add_constant(X)\n",
    "Y = df['player1 total points won'].dropna()\n",
    "mod = sm.OLS(Y, X).fit(cov_type='HC2')\n",
    "sm.graphics.plot_fit(mod, 0, vlines=False)\n",
    "plt.show()\n",
    "mod.summary()\n",
    "# sns.regplot(df['player1 total points won'].dropna(),df['player2 total points won'].dropna())"
   ]
  },
  {
   "cell_type": "code",
   "execution_count": 44,
   "metadata": {
    "collapsed": true,
    "jupyter": {
     "outputs_hidden": true,
     "source_hidden": true
    }
   },
   "outputs": [
    {
     "data": {
      "text/plain": [
       "'\\nQuestion 1 Answers\\n\\nFor every point won by R. Federer the model predicts the opponent winning ~0.82 points.\\nThis is consistent with the performance and career for R. Fed.\\n\\nConstant Y/N, why?\\nHow does interpretation of coeff/p-val change with/without const?\\n'"
      ]
     },
     "execution_count": 44,
     "metadata": {},
     "output_type": "execute_result"
    }
   ],
   "source": [
    "\"\"\"\n",
    "Question 1 Answers\n",
    "\n",
    "For every point won by R. Federer the model predicts the opponent winning ~0.82 points.\n",
    "This is consistent with the performance and career for R. Fed.\n",
    "From the p-value (0.000), it is suggested that this model depicts a statistically significant relationship.\n",
    "\n",
    "The nature of tennis also suggests that two equally matched opponents will necessarily\n",
    "play a longer game, resulting in higher point totals for both players.\n",
    "\n",
    "Constant Y/N, why?\n",
    "Intuitively it feels appropriate to include a constant, as there is no possible 0-point games in tennis.\n",
    "Visually (from the plot) it appears to improve the model accuracy in my estimation.\n",
    "\n",
    "How does interpretation of coeff/p-val change with/without const?\n",
    "With constant:\n",
    "Coeff is ~0.82\n",
    "P-val is 0.000\n",
    "\n",
    "Without constant:\n",
    "Coeff is ~1.12\n",
    "P-val is 0.000\n",
    "\"\"\""
   ]
  },
  {
   "cell_type": "markdown",
   "metadata": {
    "jupyter": {
     "source_hidden": true
    }
   },
   "source": [
    "# 2. College admissions\n",
    "\n",
    "Using the `college.csv` dataset, answer the following:\n",
    "\n",
    "1. Is the relation between `Top10perc` and `Top25perc` best fit using a model with only one variable, or one variable and a polynomial of degree 2? Is a constant term useful? How would you select for the best of these model specifications?\n",
    "\n",
    "2. Do private schools see more admissions overall? T-test this using a linear regression. Hint: use a binary explanatory variable for `Private`. Explain your model specification choices.\n"
   ]
  },
  {
   "cell_type": "code",
   "execution_count": 51,
   "metadata": {
    "collapsed": true,
    "jupyter": {
     "outputs_hidden": true,
     "source_hidden": true
    }
   },
   "outputs": [
    {
     "data": {
      "image/png": "[encoded data removed]",
      "text/plain": [
       "<Figure size 432x288 with 1 Axes>"
      ]
     },
     "metadata": {
      "needs_background": "light"
     },
     "output_type": "display_data"
    },
    {
     "data": {
      "text/html": [
       "<table class=\"simpletable\">\n",
       "<caption>OLS Regression Results</caption>\n",
       "<tr>\n",
       "  <th>Dep. Variable:</th>        <td>Top10perc</td>    <th>  R-squared:         </th> <td>   0.856</td> \n",
       "</tr>\n",
       "<tr>\n",
       "  <th>Model:</th>                   <td>OLS</td>       <th>  Adj. R-squared:    </th> <td>   0.856</td> \n",
       "</tr>\n",
       "<tr>\n",
       "  <th>Method:</th>             <td>Least Squares</td>  <th>  F-statistic:       </th> <td>   1487.</td> \n",
       "</tr>\n",
       "<tr>\n",
       "  <th>Date:</th>             <td>Wed, 20 Jan 2021</td> <th>  Prob (F-statistic):</th> <td>8.02e-266</td>\n",
       "</tr>\n",
       "<tr>\n",
       "  <th>Time:</th>                 <td>11:40:08</td>     <th>  Log-Likelihood:    </th> <td> -2578.5</td> \n",
       "</tr>\n",
       "<tr>\n",
       "  <th>No. Observations:</th>      <td>   777</td>      <th>  AIC:               </th> <td>   5163.</td> \n",
       "</tr>\n",
       "<tr>\n",
       "  <th>Df Residuals:</th>          <td>   774</td>      <th>  BIC:               </th> <td>   5177.</td> \n",
       "</tr>\n",
       "<tr>\n",
       "  <th>Df Model:</th>              <td>     2</td>      <th>                     </th>     <td> </td>    \n",
       "</tr>\n",
       "<tr>\n",
       "  <th>Covariance Type:</th>         <td>HC2</td>       <th>                     </th>     <td> </td>    \n",
       "</tr>\n",
       "</table>\n",
       "<table class=\"simpletable\">\n",
       "<tr>\n",
       "       <td></td>         <th>coef</th>     <th>std err</th>      <th>z</th>      <th>P>|z|</th>  <th>[0.025</th>    <th>0.975]</th>  \n",
       "</tr>\n",
       "<tr>\n",
       "  <th>const</th>      <td>   11.7490</td> <td>    1.862</td> <td>    6.310</td> <td> 0.000</td> <td>    8.100</td> <td>   15.398</td>\n",
       "</tr>\n",
       "<tr>\n",
       "  <th>Top25perc</th>  <td>   -0.3124</td> <td>    0.079</td> <td>   -3.956</td> <td> 0.000</td> <td>   -0.467</td> <td>   -0.158</td>\n",
       "</tr>\n",
       "<tr>\n",
       "  <th>Top25perc2</th> <td>    0.0095</td> <td>    0.001</td> <td>   12.377</td> <td> 0.000</td> <td>    0.008</td> <td>    0.011</td>\n",
       "</tr>\n",
       "</table>\n",
       "<table class=\"simpletable\">\n",
       "<tr>\n",
       "  <th>Omnibus:</th>       <td>184.094</td> <th>  Durbin-Watson:     </th> <td>   2.023</td> \n",
       "</tr>\n",
       "<tr>\n",
       "  <th>Prob(Omnibus):</th> <td> 0.000</td>  <th>  Jarque-Bera (JB):  </th> <td> 954.340</td> \n",
       "</tr>\n",
       "<tr>\n",
       "  <th>Skew:</th>          <td>-0.970</td>  <th>  Prob(JB):          </th> <td>5.86e-208</td>\n",
       "</tr>\n",
       "<tr>\n",
       "  <th>Kurtosis:</th>      <td> 8.071</td>  <th>  Cond. No.          </th> <td>3.05e+04</td> \n",
       "</tr>\n",
       "</table><br/><br/>Notes:<br/>[1] Standard Errors are heteroscedasticity robust (HC2)<br/>[2] The condition number is large, 3.05e+04. This might indicate that there are<br/>strong multicollinearity or other numerical problems."
      ],
      "text/plain": [
       "<class 'statsmodels.iolib.summary.Summary'>\n",
       "\"\"\"\n",
       "                            OLS Regression Results                            \n",
       "==============================================================================\n",
       "Dep. Variable:              Top10perc   R-squared:                       0.856\n",
       "Model:                            OLS   Adj. R-squared:                  0.856\n",
       "Method:                 Least Squares   F-statistic:                     1487.\n",
       "Date:                Wed, 20 Jan 2021   Prob (F-statistic):          8.02e-266\n",
       "Time:                        11:40:08   Log-Likelihood:                -2578.5\n",
       "No. Observations:                 777   AIC:                             5163.\n",
       "Df Residuals:                     774   BIC:                             5177.\n",
       "Df Model:                           2                                         \n",
       "Covariance Type:                  HC2                                         \n",
       "==============================================================================\n",
       "                 coef    std err          z      P>|z|      [0.025      0.975]\n",
       "------------------------------------------------------------------------------\n",
       "const         11.7490      1.862      6.310      0.000       8.100      15.398\n",
       "Top25perc     -0.3124      0.079     -3.956      0.000      -0.467      -0.158\n",
       "Top25perc2     0.0095      0.001     12.377      0.000       0.008       0.011\n",
       "==============================================================================\n",
       "Omnibus:                      184.094   Durbin-Watson:                   2.023\n",
       "Prob(Omnibus):                  0.000   Jarque-Bera (JB):              954.340\n",
       "Skew:                          -0.970   Prob(JB):                    5.86e-208\n",
       "Kurtosis:                       8.071   Cond. No.                     3.05e+04\n",
       "==============================================================================\n",
       "\n",
       "Notes:\n",
       "[1] Standard Errors are heteroscedasticity robust (HC2)\n",
       "[2] The condition number is large, 3.05e+04. This might indicate that there are\n",
       "strong multicollinearity or other numerical problems.\n",
       "\"\"\""
      ]
     },
     "execution_count": 51,
     "metadata": {},
     "output_type": "execute_result"
    }
   ],
   "source": [
    "# regression for top10perc/top25perc\n",
    "data_url = r'data/college.csv'\n",
    "dataframe = pd.read_csv(data_url)\n",
    "df = dataframe\n",
    "df['Top25perc2'] = df['Top25perc']**2\n",
    "\n",
    "y = df['Top10perc']\n",
    "x = df[['Top25perc','Top25perc2']]\n",
    "x = sm.add_constant(x)\n",
    "mod = sm.OLS(y,x).fit(cov_type='HC2')\n",
    "sm.graphics.plot_fit(mod, 1, vlines=False)\n",
    "plt.show()\n",
    "mod.summary()"
   ]
  },
  {
   "cell_type": "code",
   "execution_count": 42,
   "metadata": {
    "collapsed": true,
    "jupyter": {
     "outputs_hidden": true
    }
   },
   "outputs": [
    {
     "data": {
      "image/png": "[encoded data removed]",
      "text/plain": [
       "<Figure size 432x288 with 1 Axes>"
      ]
     },
     "metadata": {
      "needs_background": "light"
     },
     "output_type": "display_data"
    },
    {
     "name": "stdout",
     "output_type": "stream",
     "text": [
      "[ 1. -1.]\n",
      "                             Test for Constraints                             \n",
      "==============================================================================\n",
      "                 coef    std err          z      P>|z|      [0.025      0.975]\n",
      "------------------------------------------------------------------------------\n",
      "c0          2824.8002    174.359     16.201      0.000    2483.063    3166.537\n",
      "==============================================================================\n"
     ]
    },
    {
     "data": {
      "text/html": [
       "<table class=\"simpletable\">\n",
       "<caption>OLS Regression Results</caption>\n",
       "<tr>\n",
       "  <th>Dep. Variable:</th>         <td>Enroll</td>      <th>  R-squared:         </th> <td>   0.323</td> \n",
       "</tr>\n",
       "<tr>\n",
       "  <th>Model:</th>                   <td>OLS</td>       <th>  Adj. R-squared:    </th> <td>   0.322</td> \n",
       "</tr>\n",
       "<tr>\n",
       "  <th>Method:</th>             <td>Least Squares</td>  <th>  F-statistic:       </th> <td>   177.9</td> \n",
       "</tr>\n",
       "<tr>\n",
       "  <th>Date:</th>             <td>Wed, 20 Jan 2021</td> <th>  Prob (F-statistic):</th> <td>1.09e-36</td> \n",
       "</tr>\n",
       "<tr>\n",
       "  <th>Time:</th>                 <td>11:14:09</td>     <th>  Log-Likelihood:    </th> <td> -6261.0</td> \n",
       "</tr>\n",
       "<tr>\n",
       "  <th>No. Observations:</th>      <td>   777</td>      <th>  AIC:               </th> <td>1.253e+04</td>\n",
       "</tr>\n",
       "<tr>\n",
       "  <th>Df Residuals:</th>          <td>   775</td>      <th>  BIC:               </th> <td>1.254e+04</td>\n",
       "</tr>\n",
       "<tr>\n",
       "  <th>Df Model:</th>              <td>     1</td>      <th>                     </th>     <td> </td>    \n",
       "</tr>\n",
       "<tr>\n",
       "  <th>Covariance Type:</th>         <td>HC2</td>       <th>                     </th>     <td> </td>    \n",
       "</tr>\n",
       "</table>\n",
       "<table class=\"simpletable\">\n",
       "<tr>\n",
       "     <td></td>        <th>coef</th>     <th>std err</th>      <th>z</th>      <th>P>|z|</th>  <th>[0.025</th>    <th>0.975]</th>  \n",
       "</tr>\n",
       "<tr>\n",
       "  <th>const</th>   <td> 1640.8726</td> <td>   86.646</td> <td>   18.938</td> <td> 0.000</td> <td> 1471.049</td> <td> 1810.697</td>\n",
       "</tr>\n",
       "<tr>\n",
       "  <th>Private</th> <td>-1183.9275</td> <td>   88.759</td> <td>  -13.339</td> <td> 0.000</td> <td>-1357.891</td> <td>-1009.964</td>\n",
       "</tr>\n",
       "</table>\n",
       "<table class=\"simpletable\">\n",
       "<tr>\n",
       "  <th>Omnibus:</th>       <td>421.162</td> <th>  Durbin-Watson:     </th> <td>   1.880</td>\n",
       "</tr>\n",
       "<tr>\n",
       "  <th>Prob(Omnibus):</th> <td> 0.000</td>  <th>  Jarque-Bera (JB):  </th> <td>3666.463</td>\n",
       "</tr>\n",
       "<tr>\n",
       "  <th>Skew:</th>          <td> 2.310</td>  <th>  Prob(JB):          </th> <td>    0.00</td>\n",
       "</tr>\n",
       "<tr>\n",
       "  <th>Kurtosis:</th>      <td>12.587</td>  <th>  Cond. No.          </th> <td>    3.60</td>\n",
       "</tr>\n",
       "</table><br/><br/>Notes:<br/>[1] Standard Errors are heteroscedasticity robust (HC2)"
      ],
      "text/plain": [
       "<class 'statsmodels.iolib.summary.Summary'>\n",
       "\"\"\"\n",
       "                            OLS Regression Results                            \n",
       "==============================================================================\n",
       "Dep. Variable:                 Enroll   R-squared:                       0.323\n",
       "Model:                            OLS   Adj. R-squared:                  0.322\n",
       "Method:                 Least Squares   F-statistic:                     177.9\n",
       "Date:                Wed, 20 Jan 2021   Prob (F-statistic):           1.09e-36\n",
       "Time:                        11:14:09   Log-Likelihood:                -6261.0\n",
       "No. Observations:                 777   AIC:                         1.253e+04\n",
       "Df Residuals:                     775   BIC:                         1.254e+04\n",
       "Df Model:                           1                                         \n",
       "Covariance Type:                  HC2                                         \n",
       "==============================================================================\n",
       "                 coef    std err          z      P>|z|      [0.025      0.975]\n",
       "------------------------------------------------------------------------------\n",
       "const       1640.8726     86.646     18.938      0.000    1471.049    1810.697\n",
       "Private    -1183.9275     88.759    -13.339      0.000   -1357.891   -1009.964\n",
       "==============================================================================\n",
       "Omnibus:                      421.162   Durbin-Watson:                   1.880\n",
       "Prob(Omnibus):                  0.000   Jarque-Bera (JB):             3666.463\n",
       "Skew:                           2.310   Prob(JB):                         0.00\n",
       "Kurtosis:                      12.587   Cond. No.                         3.60\n",
       "==============================================================================\n",
       "\n",
       "Notes:\n",
       "[1] Standard Errors are heteroscedasticity robust (HC2)\n",
       "\"\"\""
      ]
     },
     "execution_count": 42,
     "metadata": {},
     "output_type": "execute_result"
    }
   ],
   "source": [
    "# regression for admission/private\n",
    "data_url = r'data/college.csv'\n",
    "dataframe = pd.read_csv(data_url)\n",
    "df = dataframe\n",
    "df['Private'] = pd.get_dummies(df['Private'], drop_first=True)\n",
    "x = df['Private']\n",
    "y = df[['Enroll']]\n",
    "x = sm.add_constant(x)\n",
    "mod = sm.OLS(y,x).fit(cov_type='HC2')\n",
    "sm.graphics.plot_fit(mod, 1, vlines=False)\n",
    "plt.show()\n",
    "r = np.zeros_like(mod.params)\n",
    "r[0] = 1\n",
    "r[1] = -1\n",
    "T_test = mod.t_test(r)\n",
    "print(T_test)\n",
    "mod.summary()"
   ]
  },
  {
   "cell_type": "code",
   "execution_count": null,
   "metadata": {},
   "outputs": [],
   "source": [
    "\"\"\"\n",
    "Question 2 Answers\n",
    "1. Relationship appears to be best fit using a square polynomial feature, with a constant.\n",
    "   My selection was based on comparison between results (and plots).\n",
    "2. Honestly I'm not sure whether or not this model achieves the desired effect. \n",
    "   I chose enrollment as the simplest metric for admissions, treating private as the independent variable.\n",
    "\"\"\""
   ]
  },
  {
   "cell_type": "markdown",
   "metadata": {},
   "source": [
    "# 3. Auto prediction\n",
    "\n",
    "Using the `auto.csv` dataset, perform a simple linear regression with `mpg` as the response variable and horsepower as the predictor. Answer the following:\n",
    "\n",
    " i. Is there a relationship between the predictor and the response?\n",
    " \n",
    " ii. How strong is the relationship between the predictor and the response?\n",
    " \n",
    " iii. Is the relationship between the predictor and the response positive or negative?\n",
    "\n",
    " iv. What is the predicted mpg associated with a horsepower of 98? What are the associated 95 % confidence and prediction intervals ?\n",
    "\n",
    " v. Make a regression plot the response and the predictor."
   ]
  },
  {
   "cell_type": "code",
   "execution_count": 43,
   "metadata": {},
   "outputs": [
    {
     "data": {
      "image/png": "[encoded data removed]",
      "text/plain": [
       "<Figure size 432x288 with 1 Axes>"
      ]
     },
     "metadata": {
      "needs_background": "light"
     },
     "output_type": "display_data"
    },
    {
     "data": {
      "text/html": [
       "<table class=\"simpletable\">\n",
       "<caption>OLS Regression Results</caption>\n",
       "<tr>\n",
       "  <th>Dep. Variable:</th>           <td>mpg</td>       <th>  R-squared:         </th> <td>   0.579</td>\n",
       "</tr>\n",
       "<tr>\n",
       "  <th>Model:</th>                   <td>OLS</td>       <th>  Adj. R-squared:    </th> <td>   0.578</td>\n",
       "</tr>\n",
       "<tr>\n",
       "  <th>Method:</th>             <td>Least Squares</td>  <th>  F-statistic:       </th> <td>   356.2</td>\n",
       "</tr>\n",
       "<tr>\n",
       "  <th>Date:</th>             <td>Wed, 20 Jan 2021</td> <th>  Prob (F-statistic):</th> <td>4.24e-57</td>\n",
       "</tr>\n",
       "<tr>\n",
       "  <th>Time:</th>                 <td>11:19:05</td>     <th>  Log-Likelihood:    </th> <td> -1207.8</td>\n",
       "</tr>\n",
       "<tr>\n",
       "  <th>No. Observations:</th>      <td>   397</td>      <th>  AIC:               </th> <td>   2420.</td>\n",
       "</tr>\n",
       "<tr>\n",
       "  <th>Df Residuals:</th>          <td>   395</td>      <th>  BIC:               </th> <td>   2428.</td>\n",
       "</tr>\n",
       "<tr>\n",
       "  <th>Df Model:</th>              <td>     1</td>      <th>                     </th>     <td> </td>   \n",
       "</tr>\n",
       "<tr>\n",
       "  <th>Covariance Type:</th>         <td>HC2</td>       <th>                     </th>     <td> </td>   \n",
       "</tr>\n",
       "</table>\n",
       "<table class=\"simpletable\">\n",
       "<tr>\n",
       "       <td></td>         <th>coef</th>     <th>std err</th>      <th>z</th>      <th>P>|z|</th>  <th>[0.025</th>    <th>0.975]</th>  \n",
       "</tr>\n",
       "<tr>\n",
       "  <th>const</th>      <td>   38.8792</td> <td>    0.934</td> <td>   41.614</td> <td> 0.000</td> <td>   37.048</td> <td>   40.710</td>\n",
       "</tr>\n",
       "<tr>\n",
       "  <th>horsepower</th> <td>   -0.1489</td> <td>    0.008</td> <td>  -18.874</td> <td> 0.000</td> <td>   -0.164</td> <td>   -0.133</td>\n",
       "</tr>\n",
       "</table>\n",
       "<table class=\"simpletable\">\n",
       "<tr>\n",
       "  <th>Omnibus:</th>       <td>12.157</td> <th>  Durbin-Watson:     </th> <td>   0.995</td>\n",
       "</tr>\n",
       "<tr>\n",
       "  <th>Prob(Omnibus):</th> <td> 0.002</td> <th>  Jarque-Bera (JB):  </th> <td>  14.244</td>\n",
       "</tr>\n",
       "<tr>\n",
       "  <th>Skew:</th>          <td> 0.323</td> <th>  Prob(JB):          </th> <td>0.000807</td>\n",
       "</tr>\n",
       "<tr>\n",
       "  <th>Kurtosis:</th>      <td> 3.667</td> <th>  Cond. No.          </th> <td>    306.</td>\n",
       "</tr>\n",
       "</table><br/><br/>Notes:<br/>[1] Standard Errors are heteroscedasticity robust (HC2)"
      ],
      "text/plain": [
       "<class 'statsmodels.iolib.summary.Summary'>\n",
       "\"\"\"\n",
       "                            OLS Regression Results                            \n",
       "==============================================================================\n",
       "Dep. Variable:                    mpg   R-squared:                       0.579\n",
       "Model:                            OLS   Adj. R-squared:                  0.578\n",
       "Method:                 Least Squares   F-statistic:                     356.2\n",
       "Date:                Wed, 20 Jan 2021   Prob (F-statistic):           4.24e-57\n",
       "Time:                        11:19:05   Log-Likelihood:                -1207.8\n",
       "No. Observations:                 397   AIC:                             2420.\n",
       "Df Residuals:                     395   BIC:                             2428.\n",
       "Df Model:                           1                                         \n",
       "Covariance Type:                  HC2                                         \n",
       "==============================================================================\n",
       "                 coef    std err          z      P>|z|      [0.025      0.975]\n",
       "------------------------------------------------------------------------------\n",
       "const         38.8792      0.934     41.614      0.000      37.048      40.710\n",
       "horsepower    -0.1489      0.008    -18.874      0.000      -0.164      -0.133\n",
       "==============================================================================\n",
       "Omnibus:                       12.157   Durbin-Watson:                   0.995\n",
       "Prob(Omnibus):                  0.002   Jarque-Bera (JB):               14.244\n",
       "Skew:                           0.323   Prob(JB):                     0.000807\n",
       "Kurtosis:                       3.667   Cond. No.                         306.\n",
       "==============================================================================\n",
       "\n",
       "Notes:\n",
       "[1] Standard Errors are heteroscedasticity robust (HC2)\n",
       "\"\"\""
      ]
     },
     "execution_count": 43,
     "metadata": {},
     "output_type": "execute_result"
    }
   ],
   "source": [
    "auto = open('data/auto.csv', 'r')\n",
    "read = auto.read()\n",
    "read = read.split('\\n')\n",
    "# trim the useless line\n",
    "read.pop(1)\n",
    "# replace the ? in horsepower\n",
    "for e in read:\n",
    "    if '?' in e:\n",
    "        ind = read.index(e)\n",
    "        read[ind] = e.replace('?', '0')\n",
    "read = '\\n'.join(read)\n",
    "inp = io.StringIO(read)\n",
    "dataframe = pd.read_csv(inp, delim_whitespace=True)\n",
    "df = dataframe\n",
    "\n",
    "y = df['mpg']\n",
    "x =  df['horsepower']\n",
    "x = sm.add_constant(x)\n",
    "mod = sm.OLS(y,x).fit(cov_type='HC2')\n",
    "sm.graphics.plot_fit(mod, 1, vlines=False)\n",
    "plt.show()\n",
    "mod.summary()"
   ]
  },
  {
   "cell_type": "code",
   "execution_count": null,
   "metadata": {},
   "outputs": [],
   "source": [
    "\"\"\"\n",
    "Question 3 Answers\n",
    "1. Yes\n",
    "2. For every 1 horsepower, the model predicts a loss of ~0.15 mpg\n",
    "3. Negative\n",
    "4. ~24.3 +/- 0.016 (2*sd)\n",
    "5. See above.\n",
    "\n",
    "\"\"\""
   ]
  },
  {
   "cell_type": "markdown",
   "metadata": {},
   "source": [
    "# 4. Auto Multiple Regression\n",
    "\n",
    "Perform a multiple linear regression with `mpg` as the response and all other variables except name in `auto` as the predictors. Comment on the output:\n",
    "\n",
    "i. Is there a relationship between the predictors and the response?\n",
    "\n",
    "ii. Which predictors appear to have a statistically significant relationship to the response?\n",
    "\n",
    "iii. What does the coefficient for the year variable suggest?\n",
    "\n",
    "iv. Comment on any problems you see with the fit. Do the residual plots suggest any unusually large outliers?\n",
    "\n",
    "v. Is there heteroscedasticity in the fit?"
   ]
  },
  {
   "cell_type": "code",
   "execution_count": 91,
   "metadata": {},
   "outputs": [
    {
     "data": {
      "image/png": "[encoded data removed]",
      "text/plain": [
       "<Figure size 432x288 with 1 Axes>"
      ]
     },
     "metadata": {
      "needs_background": "light"
     },
     "output_type": "display_data"
    },
    {
     "data": {
      "text/html": [
       "<table class=\"simpletable\">\n",
       "<caption>OLS Regression Results</caption>\n",
       "<tr>\n",
       "  <th>Dep. Variable:</th>           <td>mpg</td>       <th>  R-squared:         </th> <td>   0.821</td> \n",
       "</tr>\n",
       "<tr>\n",
       "  <th>Model:</th>                   <td>OLS</td>       <th>  Adj. R-squared:    </th> <td>   0.818</td> \n",
       "</tr>\n",
       "<tr>\n",
       "  <th>Method:</th>             <td>Least Squares</td>  <th>  F-statistic:       </th> <td>   329.3</td> \n",
       "</tr>\n",
       "<tr>\n",
       "  <th>Date:</th>             <td>Wed, 20 Jan 2021</td> <th>  Prob (F-statistic):</th> <td>1.05e-137</td>\n",
       "</tr>\n",
       "<tr>\n",
       "  <th>Time:</th>                 <td>16:46:50</td>     <th>  Log-Likelihood:    </th> <td> -1038.4</td> \n",
       "</tr>\n",
       "<tr>\n",
       "  <th>No. Observations:</th>      <td>   397</td>      <th>  AIC:               </th> <td>   2089.</td> \n",
       "</tr>\n",
       "<tr>\n",
       "  <th>Df Residuals:</th>          <td>   391</td>      <th>  BIC:               </th> <td>   2113.</td> \n",
       "</tr>\n",
       "<tr>\n",
       "  <th>Df Model:</th>              <td>     5</td>      <th>                     </th>     <td> </td>    \n",
       "</tr>\n",
       "<tr>\n",
       "  <th>Covariance Type:</th>         <td>HC2</td>       <th>                     </th>     <td> </td>    \n",
       "</tr>\n",
       "</table>\n",
       "<table class=\"simpletable\">\n",
       "<tr>\n",
       "        <td></td>          <th>coef</th>     <th>std err</th>      <th>z</th>      <th>P>|z|</th>  <th>[0.025</th>    <th>0.975]</th>  \n",
       "</tr>\n",
       "<tr>\n",
       "  <th>const</th>        <td>  -17.2409</td> <td>    3.669</td> <td>   -4.700</td> <td> 0.000</td> <td>  -24.431</td> <td>  -10.051</td>\n",
       "</tr>\n",
       "<tr>\n",
       "  <th>displacement</th> <td>    0.0114</td> <td>    0.006</td> <td>    1.976</td> <td> 0.048</td> <td> 9.49e-05</td> <td>    0.023</td>\n",
       "</tr>\n",
       "<tr>\n",
       "  <th>horsepower</th>   <td>   -0.0196</td> <td>    0.010</td> <td>   -1.920</td> <td> 0.055</td> <td>   -0.040</td> <td>    0.000</td>\n",
       "</tr>\n",
       "<tr>\n",
       "  <th>weight</th>       <td>   -0.0064</td> <td>    0.001</td> <td>  -10.752</td> <td> 0.000</td> <td>   -0.008</td> <td>   -0.005</td>\n",
       "</tr>\n",
       "<tr>\n",
       "  <th>year</th>         <td>    0.7558</td> <td>    0.048</td> <td>   15.668</td> <td> 0.000</td> <td>    0.661</td> <td>    0.850</td>\n",
       "</tr>\n",
       "<tr>\n",
       "  <th>origin</th>       <td>    1.4014</td> <td>    0.270</td> <td>    5.183</td> <td> 0.000</td> <td>    0.871</td> <td>    1.931</td>\n",
       "</tr>\n",
       "</table>\n",
       "<table class=\"simpletable\">\n",
       "<tr>\n",
       "  <th>Omnibus:</th>       <td>33.547</td> <th>  Durbin-Watson:     </th> <td>   1.288</td>\n",
       "</tr>\n",
       "<tr>\n",
       "  <th>Prob(Omnibus):</th> <td> 0.000</td> <th>  Jarque-Bera (JB):  </th> <td>  56.701</td>\n",
       "</tr>\n",
       "<tr>\n",
       "  <th>Skew:</th>          <td> 0.542</td> <th>  Prob(JB):          </th> <td>4.87e-13</td>\n",
       "</tr>\n",
       "<tr>\n",
       "  <th>Kurtosis:</th>      <td> 4.501</td> <th>  Cond. No.          </th> <td>7.50e+04</td>\n",
       "</tr>\n",
       "</table><br/><br/>Notes:<br/>[1] Standard Errors are heteroscedasticity robust (HC2)<br/>[2] The condition number is large, 7.5e+04. This might indicate that there are<br/>strong multicollinearity or other numerical problems."
      ],
      "text/plain": [
       "<class 'statsmodels.iolib.summary.Summary'>\n",
       "\"\"\"\n",
       "                            OLS Regression Results                            \n",
       "==============================================================================\n",
       "Dep. Variable:                    mpg   R-squared:                       0.821\n",
       "Model:                            OLS   Adj. R-squared:                  0.818\n",
       "Method:                 Least Squares   F-statistic:                     329.3\n",
       "Date:                Wed, 20 Jan 2021   Prob (F-statistic):          1.05e-137\n",
       "Time:                        16:46:50   Log-Likelihood:                -1038.4\n",
       "No. Observations:                 397   AIC:                             2089.\n",
       "Df Residuals:                     391   BIC:                             2113.\n",
       "Df Model:                           5                                         \n",
       "Covariance Type:                  HC2                                         \n",
       "================================================================================\n",
       "                   coef    std err          z      P>|z|      [0.025      0.975]\n",
       "--------------------------------------------------------------------------------\n",
       "const          -17.2409      3.669     -4.700      0.000     -24.431     -10.051\n",
       "displacement     0.0114      0.006      1.976      0.048    9.49e-05       0.023\n",
       "horsepower      -0.0196      0.010     -1.920      0.055      -0.040       0.000\n",
       "weight          -0.0064      0.001    -10.752      0.000      -0.008      -0.005\n",
       "year             0.7558      0.048     15.668      0.000       0.661       0.850\n",
       "origin           1.4014      0.270      5.183      0.000       0.871       1.931\n",
       "==============================================================================\n",
       "Omnibus:                       33.547   Durbin-Watson:                   1.288\n",
       "Prob(Omnibus):                  0.000   Jarque-Bera (JB):               56.701\n",
       "Skew:                           0.542   Prob(JB):                     4.87e-13\n",
       "Kurtosis:                       4.501   Cond. No.                     7.50e+04\n",
       "==============================================================================\n",
       "\n",
       "Notes:\n",
       "[1] Standard Errors are heteroscedasticity robust (HC2)\n",
       "[2] The condition number is large, 7.5e+04. This might indicate that there are\n",
       "strong multicollinearity or other numerical problems.\n",
       "\"\"\""
      ]
     },
     "execution_count": 91,
     "metadata": {},
     "output_type": "execute_result"
    }
   ],
   "source": [
    "auto = open('data/auto.csv', 'r')\n",
    "read = auto.read()\n",
    "read = read.split('\\n')\n",
    "# trim the useless line\n",
    "read.pop(1)\n",
    "# replace the ? in horsepower\n",
    "for e in read:\n",
    "    if '?' in e:\n",
    "        ind = read.index(e)\n",
    "        read[ind] = e.replace('?', '0')\n",
    "read = '\\n'.join(read)\n",
    "inp = io.StringIO(read)\n",
    "dataframe = pd.read_csv(inp, delim_whitespace=True)\n",
    "df = dataframe\n",
    "\n",
    "y = df['mpg']\n",
    "x = df.drop(['mpg', 'name', 'acceleration', 'cylinders'], 1)\n",
    "x = sm.add_constant(x)\n",
    "mod = sm.OLS(y,x).fit(cov_type='HC2')\n",
    "sm.graphics.plot_fit(mod, 5, vlines=False)\n",
    "plt.show()\n",
    "mod.summary()\n",
    "# x.dtypes\n",
    "# x"
   ]
  },
  {
   "cell_type": "code",
   "execution_count": null,
   "metadata": {},
   "outputs": [],
   "source": [
    "\"\"\"\n",
    "Question 4 Answers\n",
    "1. Yes\n",
    "2. Year, Weight, Displacement, Origin\n",
    "3. It suggests that production year is one of the most (if not the most) important predictor of mpg\n",
    "4. Certain features (accel/cylinders) report p-values that suggest insignificance. Also origin seems odd.\n",
    "5. Yes, particularly for acceleration.\n",
    "\"\"\""
   ]
  },
  {
   "cell_type": "markdown",
   "metadata": {},
   "source": [
    "# 5. Car Seats\n",
    "\n",
    "This question should be answered using the Carseats data set\n",
    "\n",
    "1. Fit a multiple regression model to predict Sales using Price, Urban, and US.\n",
    "\n",
    "2. Provide an interpretation of each coefficient in the model. Be careful—some of the variables in the model are qualitative!\n",
    "\n",
    "3. For which of the predictors can you reject the null hypothesis H0 : βj = 0?\n",
    "\n",
    "4. On the basis of your response to the previous question, fit a smaller model that only uses the predictors for which there is evidence of association with the outcome.\n",
    "\n",
    "5. How well do the models in 1 and 4 fit the data? Explain which statistics show the difference.\n",
    "\n",
    "6. Using the model from (e), obtain 95 % confidence intervals for the coefficient(s)."
   ]
  },
  {
   "cell_type": "code",
   "execution_count": 70,
   "metadata": {},
   "outputs": [
    {
     "data": {
      "text/plain": [
       "(<class 'statsmodels.iolib.summary.Summary'>\n",
       " \"\"\"\n",
       "                             OLS Regression Results                            \n",
       " ==============================================================================\n",
       " Dep. Variable:                  Sales   R-squared:                       0.239\n",
       " Model:                            OLS   Adj. R-squared:                  0.234\n",
       " Method:                 Least Squares   F-statistic:                     43.09\n",
       " Date:                Wed, 20 Jan 2021   Prob (F-statistic):           4.04e-24\n",
       " Time:                        14:03:51   Log-Likelihood:                -927.66\n",
       " No. Observations:                 400   AIC:                             1863.\n",
       " Df Residuals:                     396   BIC:                             1879.\n",
       " Df Model:                           3                                         \n",
       " Covariance Type:                  HC2                                         \n",
       " ==============================================================================\n",
       "                  coef    std err          z      P>|z|      [0.025      0.975]\n",
       " ------------------------------------------------------------------------------\n",
       " const         13.0435      0.641     20.333      0.000      11.786      14.301\n",
       " US             1.2006      0.246      4.878      0.000       0.718       1.683\n",
       " Price         -0.0545      0.005    -10.515      0.000      -0.065      -0.044\n",
       " Urban         -0.0219      0.258     -0.085      0.932      -0.527       0.484\n",
       " ==============================================================================\n",
       " Omnibus:                        0.676   Durbin-Watson:                   1.912\n",
       " Prob(Omnibus):                  0.713   Jarque-Bera (JB):                0.758\n",
       " Skew:                           0.093   Prob(JB):                        0.684\n",
       " Kurtosis:                       2.897   Cond. No.                         628.\n",
       " ==============================================================================\n",
       " \n",
       " Notes:\n",
       " [1] Standard Errors are heteroscedasticity robust (HC2)\n",
       " \"\"\",\n",
       " <class 'statsmodels.iolib.summary.Summary'>\n",
       " \"\"\"\n",
       "                             OLS Regression Results                            \n",
       " ==============================================================================\n",
       " Dep. Variable:                  Sales   R-squared:                       0.239\n",
       " Model:                            OLS   Adj. R-squared:                  0.235\n",
       " Method:                 Least Squares   F-statistic:                     64.66\n",
       " Date:                Wed, 20 Jan 2021   Prob (F-statistic):           4.90e-25\n",
       " Time:                        14:03:51   Log-Likelihood:                -927.66\n",
       " No. Observations:                 400   AIC:                             1861.\n",
       " Df Residuals:                     397   BIC:                             1873.\n",
       " Df Model:                           2                                         \n",
       " Covariance Type:                  HC2                                         \n",
       " ==============================================================================\n",
       "                  coef    std err          z      P>|z|      [0.025      0.975]\n",
       " ------------------------------------------------------------------------------\n",
       " const         13.0308      0.622     20.944      0.000      11.811      14.250\n",
       " US             1.1996      0.247      4.863      0.000       0.716       1.683\n",
       " Price         -0.0545      0.005    -10.543      0.000      -0.065      -0.044\n",
       " ==============================================================================\n",
       " Omnibus:                        0.666   Durbin-Watson:                   1.912\n",
       " Prob(Omnibus):                  0.717   Jarque-Bera (JB):                0.749\n",
       " Skew:                           0.092   Prob(JB):                        0.688\n",
       " Kurtosis:                       2.895   Cond. No.                         607.\n",
       " ==============================================================================\n",
       " \n",
       " Notes:\n",
       " [1] Standard Errors are heteroscedasticity robust (HC2)\n",
       " \"\"\")"
      ]
     },
     "execution_count": 70,
     "metadata": {},
     "output_type": "execute_result"
    }
   ],
   "source": [
    "data_url = r'data/carseats.csv'\n",
    "dataframe = pd.read_csv(data_url)\n",
    "df = dataframe\n",
    "df['US'] = pd.get_dummies(df['US'], drop_first=True)\n",
    "df['Urban'] = pd.get_dummies(df['Urban'], drop_first=True)\n",
    "y = df['Sales']\n",
    "x1 = df[['US','Price', 'Urban']]\n",
    "x1 = sm.add_constant(x1)\n",
    "x2 = df[['US','Price']]\n",
    "x2 = sm.add_constant(x2)\n",
    "mod1 = sm.OLS(y,x1).fit(cov_type='HC2')\n",
    "mod2 = sm.OLS(y,x2).fit(cov_type='HC2')\n",
    "mod1.summary(),mod2.summary()"
   ]
  },
  {
   "cell_type": "code",
   "execution_count": null,
   "metadata": {},
   "outputs": [],
   "source": [
    "\"\"\"\n",
    "Question 5 Answers\n",
    "1. See above (mod1)\n",
    "2. US: US = 1 results in ~20% increase in sales, compared to US = 0\n",
    "   Price: For each increase in sales of 1, model predicts a decrease in price by a factor of ~0.05\n",
    "   Urban:  Urb = 1 results in a decrease in sales by a factor of ~0.02, compared to Urb = 0\n",
    "   \n",
    "3. US & Price\n",
    "4. See above (mod2)\n",
    "5. We see small improvements in: AIC/BIC, Adj. R2, and a larger improvement in Cond. No.\n",
    "6. Price: -0.065,-0.0443\n",
    "   US:     0.716, 1.68\n",
    "\"\"\""
   ]
  }
 ],
 "metadata": {
  "file_extension": ".py",
  "kernelspec": {
   "display_name": "Python 3",
   "language": "python",
   "name": "python3"
  },
  "language_info": {
   "codemirror_mode": {
    "name": "ipython",
    "version": 3
   },
   "file_extension": ".py",
   "mimetype": "text/x-python",
   "name": "python",
   "nbconvert_exporter": "python",
   "pygments_lexer": "ipython3",
   "version": "3.8.3"
  },
  "mimetype": "text/x-python",
  "name": "python",
  "npconvert_exporter": "python",
  "pygments_lexer": "ipython3",
  "version": 3
 },
 "nbformat": 4,
 "nbformat_minor": 4
}
